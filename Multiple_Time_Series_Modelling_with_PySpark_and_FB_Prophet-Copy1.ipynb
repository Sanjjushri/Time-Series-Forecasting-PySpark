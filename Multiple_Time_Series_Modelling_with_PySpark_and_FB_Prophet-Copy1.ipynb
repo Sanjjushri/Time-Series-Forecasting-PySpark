{
 "cells": [
  {
   "cell_type": "markdown",
   "metadata": {
    "colab_type": "text",
    "id": "view-in-github"
   },
   "source": [
    "<a href=\"https://colab.research.google.com/github/utkarshkant/Multiple-Time-Series-Modelling-with-PySpark-and-FB-Prophet/blob/main/Multiple_Time_Series_Modelling_with_PySpark_and_FB_Prophet.ipynb\" target=\"_parent\"><img src=\"https://colab.research.google.com/assets/colab-badge.svg\" alt=\"Open In Colab\"/></a>"
   ]
  },
  {
   "cell_type": "markdown",
   "metadata": {
    "id": "R6M2FttTm5iX"
   },
   "source": [
    "# Multiple Time Series Modelling with Apache Spark and FB Prophet"
   ]
  },
  {
   "cell_type": "code",
   "execution_count": 1,
   "metadata": {
    "colab": {
     "base_uri": "https://localhost:8080/",
     "height": 35
    },
    "id": "TDFSYOHdmyaV",
    "outputId": "337cbcb0-e643-4c44-92ea-4ccbea27b9b5"
   },
   "outputs": [],
   "source": [
    "# install java 8 compatible with Apache Spark\n",
    "# !apt-get install -y openjdk-8-jdk-headless -qq > /dev/null\n",
    "# import os\n",
    "# os.environ[\"JAVA HOME\"] = \"/usr/lib/jvm/java-8-openjdk-amd64\"\n",
    "# !update-alternatives --set java /usr/lib/jvm/java-8-openjdk-amd64/jre/bin/java"
   ]
  },
  {
   "cell_type": "code",
   "execution_count": 2,
   "metadata": {
    "colab": {
     "base_uri": "https://localhost:8080/",
     "height": 69
    },
    "id": "zV8LPKCCoclK",
    "outputId": "a199cbfe-b30e-442c-fbe3-77c7dd0fa909"
   },
   "outputs": [
    {
     "name": "stdout",
     "output_type": "stream",
     "text": [
      "java version \"19.0.1\" 2022-10-18\n",
      "Java(TM) SE Runtime Environment (build 19.0.1+10-21)\n",
      "Java HotSpot(TM) 64-Bit Server VM (build 19.0.1+10-21, mixed mode, sharing)\n"
     ]
    }
   ],
   "source": [
    "# check java version\n",
    "!java -version"
   ]
  },
  {
   "cell_type": "code",
   "execution_count": 3,
   "metadata": {
    "colab": {
     "base_uri": "https://localhost:8080/",
     "height": 263
    },
    "id": "j2mB09vXnZkD",
    "outputId": "7cf84d89-f832-45fd-83ce-f80d739c68b5"
   },
   "outputs": [],
   "source": [
    "# install pyspark\n",
    "# !pip install pyspark"
   ]
  },
  {
   "cell_type": "code",
   "execution_count": 4,
   "metadata": {
    "colab": {
     "base_uri": "https://localhost:8080/",
     "height": 211
    },
    "id": "fIUNGjFgobbR",
    "outputId": "c774de29-1d8b-4234-d46c-fdb671e51c68"
   },
   "outputs": [],
   "source": [
    "# install pyarrow\n",
    "# !pip install pyarrow==0.15.1  # package for transferring data from one technology to another"
   ]
  },
  {
   "cell_type": "code",
   "execution_count": 5,
   "metadata": {},
   "outputs": [
    {
     "name": "stdout",
     "output_type": "stream",
     "text": [
      "Name: pyarrow\n",
      "Version: 8.0.0\n",
      "Summary: Python library for Apache Arrow\n",
      "Home-page: https://arrow.apache.org/\n",
      "Author: \n",
      "Author-email: \n",
      "License: Apache License, Version 2.0\n",
      "Location: /opt/homebrew/Caskroom/miniconda/base/envs/ml38/lib/python3.8/site-packages\n",
      "Requires: numpy\n",
      "Required-by: streamlit\n"
     ]
    }
   ],
   "source": [
    "!pip show pyarrow"
   ]
  },
  {
   "cell_type": "code",
   "execution_count": 6,
   "metadata": {
    "colab": {
     "base_uri": "https://localhost:8080/",
     "height": 401
    },
    "id": "hNfU7ScOpCVI",
    "outputId": "6e37c456-66a6-403c-afd3-cf877dc1a0f6"
   },
   "outputs": [],
   "source": [
    "# install fbprophet\n",
    "# !pip install fbprophet"
   ]
  },
  {
   "cell_type": "code",
   "execution_count": 7,
   "metadata": {
    "id": "_Byn8zQspFCw"
   },
   "outputs": [],
   "source": [
    "# standard imports\n",
    "import pandas as pd\n",
    "import matplotlib as mpl\n",
    "import matplotlib.pyplot as plt\n",
    "import seaborn as sns\n",
    "from fbprophet import Prophet   # for time series modelling\n",
    "\n",
    "# configurations\n",
    "mpl.rcParams['figure.figsize'] = (10,8)\n",
    "mpl.rcParams['axes.grid'] = False\n",
    "sns.set_style(\"whitegrid\")"
   ]
  },
  {
   "cell_type": "code",
   "execution_count": 8,
   "metadata": {
    "id": "rfCjosWrrUqi"
   },
   "outputs": [],
   "source": [
    "# initializing a spark session\n",
    "from pyspark.sql import SparkSession\n",
    "import pyspark\n",
    "spark = SparkSession.builder.master('local').getOrCreate()"
   ]
  },
  {
   "cell_type": "code",
   "execution_count": 9,
   "metadata": {
    "id": "R7qU2AeJrzhN"
   },
   "outputs": [],
   "source": [
    "# load dataset\n",
    "df = pd.read_csv('dataset/air_quality_index.csv')"
   ]
  },
  {
   "cell_type": "code",
   "execution_count": 10,
   "metadata": {
    "colab": {
     "base_uri": "https://localhost:8080/",
     "height": 415
    },
    "id": "1AxkibKDtQY5",
    "outputId": "3823a000-1606-4e96-e9dd-adb7dcfdb7b0"
   },
   "outputs": [
    {
     "data": {
      "text/html": [
       "<div>\n",
       "<style scoped>\n",
       "    .dataframe tbody tr th:only-of-type {\n",
       "        vertical-align: middle;\n",
       "    }\n",
       "\n",
       "    .dataframe tbody tr th {\n",
       "        vertical-align: top;\n",
       "    }\n",
       "\n",
       "    .dataframe thead th {\n",
       "        text-align: right;\n",
       "    }\n",
       "</style>\n",
       "<table border=\"1\" class=\"dataframe\">\n",
       "  <thead>\n",
       "    <tr style=\"text-align: right;\">\n",
       "      <th></th>\n",
       "      <th>DATE</th>\n",
       "      <th>COUNTRY</th>\n",
       "      <th>CITY</th>\n",
       "      <th>VALUE</th>\n",
       "    </tr>\n",
       "  </thead>\n",
       "  <tbody>\n",
       "    <tr>\n",
       "      <th>0</th>\n",
       "      <td>2019-01-01</td>\n",
       "      <td>US</td>\n",
       "      <td>San Antonio</td>\n",
       "      <td>42.0</td>\n",
       "    </tr>\n",
       "    <tr>\n",
       "      <th>1</th>\n",
       "      <td>2019-01-01</td>\n",
       "      <td>US</td>\n",
       "      <td>Saint Paul</td>\n",
       "      <td>21.0</td>\n",
       "    </tr>\n",
       "    <tr>\n",
       "      <th>2</th>\n",
       "      <td>2019-01-01</td>\n",
       "      <td>US</td>\n",
       "      <td>Denver</td>\n",
       "      <td>42.0</td>\n",
       "    </tr>\n",
       "    <tr>\n",
       "      <th>3</th>\n",
       "      <td>2019-01-01</td>\n",
       "      <td>US</td>\n",
       "      <td>San Francisco</td>\n",
       "      <td>13.0</td>\n",
       "    </tr>\n",
       "    <tr>\n",
       "      <th>4</th>\n",
       "      <td>2019-01-01</td>\n",
       "      <td>US</td>\n",
       "      <td>Madison</td>\n",
       "      <td>14.0</td>\n",
       "    </tr>\n",
       "    <tr>\n",
       "      <th>...</th>\n",
       "      <td>...</td>\n",
       "      <td>...</td>\n",
       "      <td>...</td>\n",
       "      <td>...</td>\n",
       "    </tr>\n",
       "    <tr>\n",
       "      <th>68983</th>\n",
       "      <td>2021-05-31</td>\n",
       "      <td>US</td>\n",
       "      <td>Detroit</td>\n",
       "      <td>42.0</td>\n",
       "    </tr>\n",
       "    <tr>\n",
       "      <th>68984</th>\n",
       "      <td>2021-05-31</td>\n",
       "      <td>US</td>\n",
       "      <td>Jackson</td>\n",
       "      <td>30.0</td>\n",
       "    </tr>\n",
       "    <tr>\n",
       "      <th>68985</th>\n",
       "      <td>2021-05-31</td>\n",
       "      <td>US</td>\n",
       "      <td>The Bronx</td>\n",
       "      <td>12.0</td>\n",
       "    </tr>\n",
       "    <tr>\n",
       "      <th>68986</th>\n",
       "      <td>2021-05-31</td>\n",
       "      <td>US</td>\n",
       "      <td>Manhattan</td>\n",
       "      <td>13.0</td>\n",
       "    </tr>\n",
       "    <tr>\n",
       "      <th>68987</th>\n",
       "      <td>2021-05-31</td>\n",
       "      <td>IN</td>\n",
       "      <td>Patna</td>\n",
       "      <td>127.0</td>\n",
       "    </tr>\n",
       "  </tbody>\n",
       "</table>\n",
       "<p>68988 rows × 4 columns</p>\n",
       "</div>"
      ],
      "text/plain": [
       "             DATE COUNTRY           CITY  VALUE\n",
       "0      2019-01-01      US    San Antonio   42.0\n",
       "1      2019-01-01      US     Saint Paul   21.0\n",
       "2      2019-01-01      US         Denver   42.0\n",
       "3      2019-01-01      US  San Francisco   13.0\n",
       "4      2019-01-01      US        Madison   14.0\n",
       "...           ...     ...            ...    ...\n",
       "68983  2021-05-31      US        Detroit   42.0\n",
       "68984  2021-05-31      US        Jackson   30.0\n",
       "68985  2021-05-31      US      The Bronx   12.0\n",
       "68986  2021-05-31      US      Manhattan   13.0\n",
       "68987  2021-05-31      IN          Patna  127.0\n",
       "\n",
       "[68988 rows x 4 columns]"
      ]
     },
     "execution_count": 10,
     "metadata": {},
     "output_type": "execute_result"
    }
   ],
   "source": [
    "# preview dataset\n",
    "df"
   ]
  },
  {
   "cell_type": "code",
   "execution_count": 11,
   "metadata": {
    "colab": {
     "base_uri": "https://localhost:8080/",
     "height": 52
    },
    "id": "67SjqZUhxq8Y",
    "outputId": "6b9c8537-82c1-44d2-ea29-1d7b1260dd67"
   },
   "outputs": [
    {
     "name": "stdout",
     "output_type": "stream",
     "text": [
      "# Rows: 68988\n",
      "# Cols: 4\n"
     ]
    }
   ],
   "source": [
    "# size of dataset\n",
    "print(\"# Rows:\", df.shape[0])\n",
    "print(\"# Cols:\", df.shape[1])"
   ]
  },
  {
   "cell_type": "code",
   "execution_count": 12,
   "metadata": {
    "colab": {
     "base_uri": "https://localhost:8080/",
     "height": 191
    },
    "id": "WRIj-2nHtgYL",
    "outputId": "94d30cbd-709f-4d05-ea73-958785fc59a1"
   },
   "outputs": [
    {
     "name": "stdout",
     "output_type": "stream",
     "text": [
      "<class 'pandas.core.frame.DataFrame'>\n",
      "RangeIndex: 68988 entries, 0 to 68987\n",
      "Data columns (total 4 columns):\n",
      " #   Column   Non-Null Count  Dtype  \n",
      "---  ------   --------------  -----  \n",
      " 0   DATE     68988 non-null  object \n",
      " 1   COUNTRY  68988 non-null  object \n",
      " 2   CITY     68988 non-null  object \n",
      " 3   VALUE    68988 non-null  float64\n",
      "dtypes: float64(1), object(3)\n",
      "memory usage: 2.1+ MB\n"
     ]
    }
   ],
   "source": [
    "# metadata\n",
    "df.info()"
   ]
  },
  {
   "cell_type": "markdown",
   "metadata": {
    "id": "EY5eXkgit72p"
   },
   "source": [
    "- Data contains weekly sales data, i.e., the weekly sales per store id\n",
    "- `date` feature is not in datetime format"
   ]
  },
  {
   "cell_type": "code",
   "execution_count": 13,
   "metadata": {
    "colab": {
     "base_uri": "https://localhost:8080/",
     "height": 87
    },
    "id": "vn-EFFeVt4YD",
    "outputId": "644eacda-2f33-4886-be73-60d012026686"
   },
   "outputs": [
    {
     "data": {
      "text/plain": [
       "DATE       0\n",
       "COUNTRY    0\n",
       "CITY       0\n",
       "VALUE      0\n",
       "dtype: int64"
      ]
     },
     "execution_count": 13,
     "metadata": {},
     "output_type": "execute_result"
    }
   ],
   "source": [
    "# check for missing values\n",
    "df.isnull().sum()"
   ]
  },
  {
   "cell_type": "markdown",
   "metadata": {
    "id": "F5HoqXpYuHY0"
   },
   "source": [
    "- no missing data found"
   ]
  },
  {
   "cell_type": "code",
   "execution_count": 14,
   "metadata": {
    "id": "ENqzMieauD6y"
   },
   "outputs": [],
   "source": [
    "# convert 'date' feature into datetime\n",
    "df['DATE'] = pd.to_datetime(df['DATE'], infer_datetime_format=True)"
   ]
  },
  {
   "cell_type": "code",
   "execution_count": 15,
   "metadata": {
    "colab": {
     "base_uri": "https://localhost:8080/",
     "height": 191
    },
    "id": "Fe6F0NO0xVFS",
    "outputId": "f84f4849-6652-4de8-db8a-bbf8869ad9f2"
   },
   "outputs": [
    {
     "name": "stdout",
     "output_type": "stream",
     "text": [
      "<class 'pandas.core.frame.DataFrame'>\n",
      "RangeIndex: 68988 entries, 0 to 68987\n",
      "Data columns (total 4 columns):\n",
      " #   Column   Non-Null Count  Dtype         \n",
      "---  ------   --------------  -----         \n",
      " 0   DATE     68988 non-null  datetime64[ns]\n",
      " 1   COUNTRY  68988 non-null  object        \n",
      " 2   CITY     68988 non-null  object        \n",
      " 3   VALUE    68988 non-null  float64       \n",
      "dtypes: datetime64[ns](1), float64(1), object(2)\n",
      "memory usage: 2.1+ MB\n"
     ]
    }
   ],
   "source": [
    "# metadata\n",
    "df.info()"
   ]
  },
  {
   "cell_type": "code",
   "execution_count": 16,
   "metadata": {
    "colab": {
     "base_uri": "https://localhost:8080/",
     "height": 87
    },
    "id": "yqKG1GxTxcRP",
    "outputId": "ebdca8da-74c9-41e5-88ef-0620bfd61886"
   },
   "outputs": [
    {
     "data": {
      "text/plain": [
       "DATE       852\n",
       "COUNTRY      2\n",
       "CITY        80\n",
       "VALUE      424\n",
       "dtype: int64"
      ]
     },
     "execution_count": 16,
     "metadata": {},
     "output_type": "execute_result"
    }
   ],
   "source": [
    "# unique values\n",
    "df.nunique()"
   ]
  },
  {
   "cell_type": "markdown",
   "metadata": {
    "id": "zLhiA1aYx4A6"
   },
   "source": [
    "- there are 50 unique date values and \n",
    "- 10 unique store ids\n",
    "\n",
    "We will build 10 different time-series models for the 10 different store ids and run them together"
   ]
  },
  {
   "cell_type": "code",
   "execution_count": 17,
   "metadata": {
    "id": "wqAxtUQRxoYv"
   },
   "outputs": [],
   "source": [
    "# create a backup copy of the dataset\n",
    "df_1 = df.copy()"
   ]
  },
  {
   "cell_type": "code",
   "execution_count": 18,
   "metadata": {
    "colab": {
     "base_uri": "https://localhost:8080/",
     "height": 294
    },
    "id": "6XXDz73Uz6Bv",
    "outputId": "2a142c46-440b-47e0-9cc1-2d05cc2aacbe"
   },
   "outputs": [
    {
     "data": {
      "text/html": [
       "<div>\n",
       "<style scoped>\n",
       "    .dataframe tbody tr th:only-of-type {\n",
       "        vertical-align: middle;\n",
       "    }\n",
       "\n",
       "    .dataframe tbody tr th {\n",
       "        vertical-align: top;\n",
       "    }\n",
       "\n",
       "    .dataframe thead th {\n",
       "        text-align: right;\n",
       "    }\n",
       "</style>\n",
       "<table border=\"1\" class=\"dataframe\">\n",
       "  <thead>\n",
       "    <tr style=\"text-align: right;\">\n",
       "      <th></th>\n",
       "      <th>VALUE</th>\n",
       "    </tr>\n",
       "  </thead>\n",
       "  <tbody>\n",
       "    <tr>\n",
       "      <th>count</th>\n",
       "      <td>68988.000000</td>\n",
       "    </tr>\n",
       "    <tr>\n",
       "      <th>mean</th>\n",
       "      <td>54.766032</td>\n",
       "    </tr>\n",
       "    <tr>\n",
       "      <th>std</th>\n",
       "      <td>51.323430</td>\n",
       "    </tr>\n",
       "    <tr>\n",
       "      <th>min</th>\n",
       "      <td>1.000000</td>\n",
       "    </tr>\n",
       "    <tr>\n",
       "      <th>25%</th>\n",
       "      <td>23.000000</td>\n",
       "    </tr>\n",
       "    <tr>\n",
       "      <th>50%</th>\n",
       "      <td>35.000000</td>\n",
       "    </tr>\n",
       "    <tr>\n",
       "      <th>75%</th>\n",
       "      <td>63.000000</td>\n",
       "    </tr>\n",
       "    <tr>\n",
       "      <th>max</th>\n",
       "      <td>834.000000</td>\n",
       "    </tr>\n",
       "  </tbody>\n",
       "</table>\n",
       "</div>"
      ],
      "text/plain": [
       "              VALUE\n",
       "count  68988.000000\n",
       "mean      54.766032\n",
       "std       51.323430\n",
       "min        1.000000\n",
       "25%       23.000000\n",
       "50%       35.000000\n",
       "75%       63.000000\n",
       "max      834.000000"
      ]
     },
     "execution_count": 18,
     "metadata": {},
     "output_type": "execute_result"
    }
   ],
   "source": [
    "# metadata\n",
    "df.describe()"
   ]
  },
  {
   "cell_type": "code",
   "execution_count": 19,
   "metadata": {
    "colab": {
     "base_uri": "https://localhost:8080/",
     "height": 208
    },
    "id": "p-OxyDuRz8xk",
    "outputId": "c60e071d-34e4-41cf-c6cb-2088305fcaf0"
   },
   "outputs": [
    {
     "data": {
      "text/plain": [
       "US    49809\n",
       "IN    19179\n",
       "Name: COUNTRY, dtype: int64"
      ]
     },
     "execution_count": 19,
     "metadata": {},
     "output_type": "execute_result"
    }
   ],
   "source": [
    "# explore features\n",
    "df['COUNTRY'].value_counts()"
   ]
  },
  {
   "cell_type": "markdown",
   "metadata": {
    "id": "gf560AoB0FdX"
   },
   "source": [
    "- each store has data records"
   ]
  },
  {
   "cell_type": "code",
   "execution_count": 20,
   "metadata": {
    "id": "DXfhdK8-0D0c"
   },
   "outputs": [],
   "source": [
    "# set date as index\n",
    "df_ts = df.set_index('DATE')"
   ]
  },
  {
   "cell_type": "code",
   "execution_count": 21,
   "metadata": {
    "colab": {
     "base_uri": "https://localhost:8080/",
     "height": 446
    },
    "id": "pP5ktoa_0NxE",
    "outputId": "bf3c8c52-ee5a-4125-a9bc-761cbd583ba9"
   },
   "outputs": [
    {
     "data": {
      "text/html": [
       "<div>\n",
       "<style scoped>\n",
       "    .dataframe tbody tr th:only-of-type {\n",
       "        vertical-align: middle;\n",
       "    }\n",
       "\n",
       "    .dataframe tbody tr th {\n",
       "        vertical-align: top;\n",
       "    }\n",
       "\n",
       "    .dataframe thead th {\n",
       "        text-align: right;\n",
       "    }\n",
       "</style>\n",
       "<table border=\"1\" class=\"dataframe\">\n",
       "  <thead>\n",
       "    <tr style=\"text-align: right;\">\n",
       "      <th></th>\n",
       "      <th>COUNTRY</th>\n",
       "      <th>CITY</th>\n",
       "      <th>VALUE</th>\n",
       "    </tr>\n",
       "    <tr>\n",
       "      <th>DATE</th>\n",
       "      <th></th>\n",
       "      <th></th>\n",
       "      <th></th>\n",
       "    </tr>\n",
       "  </thead>\n",
       "  <tbody>\n",
       "    <tr>\n",
       "      <th>2019-01-01</th>\n",
       "      <td>US</td>\n",
       "      <td>San Antonio</td>\n",
       "      <td>42.0</td>\n",
       "    </tr>\n",
       "    <tr>\n",
       "      <th>2019-01-01</th>\n",
       "      <td>US</td>\n",
       "      <td>Saint Paul</td>\n",
       "      <td>21.0</td>\n",
       "    </tr>\n",
       "    <tr>\n",
       "      <th>2019-01-01</th>\n",
       "      <td>US</td>\n",
       "      <td>Denver</td>\n",
       "      <td>42.0</td>\n",
       "    </tr>\n",
       "    <tr>\n",
       "      <th>2019-01-01</th>\n",
       "      <td>US</td>\n",
       "      <td>San Francisco</td>\n",
       "      <td>13.0</td>\n",
       "    </tr>\n",
       "    <tr>\n",
       "      <th>2019-01-01</th>\n",
       "      <td>US</td>\n",
       "      <td>Madison</td>\n",
       "      <td>14.0</td>\n",
       "    </tr>\n",
       "    <tr>\n",
       "      <th>...</th>\n",
       "      <td>...</td>\n",
       "      <td>...</td>\n",
       "      <td>...</td>\n",
       "    </tr>\n",
       "    <tr>\n",
       "      <th>2021-05-31</th>\n",
       "      <td>US</td>\n",
       "      <td>Detroit</td>\n",
       "      <td>42.0</td>\n",
       "    </tr>\n",
       "    <tr>\n",
       "      <th>2021-05-31</th>\n",
       "      <td>US</td>\n",
       "      <td>Jackson</td>\n",
       "      <td>30.0</td>\n",
       "    </tr>\n",
       "    <tr>\n",
       "      <th>2021-05-31</th>\n",
       "      <td>US</td>\n",
       "      <td>The Bronx</td>\n",
       "      <td>12.0</td>\n",
       "    </tr>\n",
       "    <tr>\n",
       "      <th>2021-05-31</th>\n",
       "      <td>US</td>\n",
       "      <td>Manhattan</td>\n",
       "      <td>13.0</td>\n",
       "    </tr>\n",
       "    <tr>\n",
       "      <th>2021-05-31</th>\n",
       "      <td>IN</td>\n",
       "      <td>Patna</td>\n",
       "      <td>127.0</td>\n",
       "    </tr>\n",
       "  </tbody>\n",
       "</table>\n",
       "<p>68988 rows × 3 columns</p>\n",
       "</div>"
      ],
      "text/plain": [
       "           COUNTRY           CITY  VALUE\n",
       "DATE                                    \n",
       "2019-01-01      US    San Antonio   42.0\n",
       "2019-01-01      US     Saint Paul   21.0\n",
       "2019-01-01      US         Denver   42.0\n",
       "2019-01-01      US  San Francisco   13.0\n",
       "2019-01-01      US        Madison   14.0\n",
       "...            ...            ...    ...\n",
       "2021-05-31      US        Detroit   42.0\n",
       "2021-05-31      US        Jackson   30.0\n",
       "2021-05-31      US      The Bronx   12.0\n",
       "2021-05-31      US      Manhattan   13.0\n",
       "2021-05-31      IN          Patna  127.0\n",
       "\n",
       "[68988 rows x 3 columns]"
      ]
     },
     "execution_count": 21,
     "metadata": {},
     "output_type": "execute_result"
    }
   ],
   "source": [
    "# preview dataset\n",
    "df_ts"
   ]
  },
  {
   "cell_type": "code",
   "execution_count": 22,
   "metadata": {
    "colab": {
     "base_uri": "https://localhost:8080/",
     "height": 483
    },
    "id": "cblWag2M0PGY",
    "outputId": "0684a5bc-41d4-4346-970d-eb1afad7a159"
   },
   "outputs": [
    {
     "data": {
      "text/plain": [
       "<AxesSubplot:xlabel='DATE'>"
      ]
     },
     "execution_count": 22,
     "metadata": {},
     "output_type": "execute_result"
    },
    {
     "data": {
      "image/png": "[encoded data removed]",
      "text/plain": [
       "<Figure size 1080x504 with 1 Axes>"
      ]
     },
     "metadata": {
      "needs_background": "light"
     },
     "output_type": "display_data"
    }
   ],
   "source": [
    "# explore individual stores\n",
    "plt.figure(figsize=(15,7))\n",
    "# df_ts.query(\"COUNTRY==US\")['VALUE'].plot(legend=True)\n",
    "df_ts['VALUE'].plot(legend=True)"
   ]
  },
  {
   "cell_type": "markdown",
   "metadata": {
    "id": "AuMhFfM91cif"
   },
   "source": [
    "- Multiple peaks and troughs on monthly basis\n",
    "- Sharp dip nearing year-end in November"
   ]
  },
  {
   "cell_type": "code",
   "execution_count": 52,
   "metadata": {
    "colab": {
     "base_uri": "https://localhost:8080/",
     "height": 471
    },
    "id": "jHgXaZ4V0WLr",
    "outputId": "2ab02663-18a7-4a61-c5bb-ce35c390be15"
   },
   "outputs": [
    {
     "data": {
      "text/plain": [
       "<Figure size 1080x504 with 0 Axes>"
      ]
     },
     "metadata": {},
     "output_type": "display_data"
    }
   ],
   "source": [
    "# explore individual stores\n",
    "plt.figure(figsize=(15,7))\n",
    "df_ts['COUNTRY'] = df['COUNTRY'].astype(str)\n",
    "\n",
    "# df_ts.query(\"COUNTRY==IN\")['VALUE'].plot(legend=True)"
   ]
  },
  {
   "cell_type": "markdown",
   "metadata": {
    "id": "szlEzxUJ1mUS"
   },
   "source": [
    "- Multiple peaks and troughs on monthly basis\n",
    "- No sharp dip nearing year-end in November"
   ]
  },
  {
   "cell_type": "code",
   "execution_count": 53,
   "metadata": {
    "colab": {
     "base_uri": "https://localhost:8080/",
     "height": 471
    },
    "id": "50gBIMBi0qTW",
    "outputId": "0e1c38b4-85c4-44e7-d003-a9065db9dbb7"
   },
   "outputs": [
    {
     "data": {
      "text/plain": [
       "<Figure size 1080x504 with 0 Axes>"
      ]
     },
     "execution_count": 53,
     "metadata": {},
     "output_type": "execute_result"
    },
    {
     "data": {
      "text/plain": [
       "<Figure size 1080x504 with 0 Axes>"
      ]
     },
     "metadata": {},
     "output_type": "display_data"
    }
   ],
   "source": [
    "# explore individual stores\n",
    "plt.figure(figsize=(15,7))\n",
    "# df_ts.query(\"store_id==30\")['sales'].plot(legend=True)"
   ]
  },
  {
   "cell_type": "markdown",
   "metadata": {
    "id": "sK5L3kEA2pGk"
   },
   "source": [
    "- The time series for each store is different from one another\n",
    "- Therefore, each store requires its individual time-series model"
   ]
  },
  {
   "cell_type": "markdown",
   "metadata": {
    "id": "GL9FvwNN2zgK"
   },
   "source": [
    "Build Spark Components"
   ]
  },
  {
   "cell_type": "code",
   "execution_count": 54,
   "metadata": {
    "id": "Jxp8veMv1B6u"
   },
   "outputs": [],
   "source": [
    "# build spark dataframe\n",
    "sdf = spark.createDataFrame(df)"
   ]
  },
  {
   "cell_type": "code",
   "execution_count": 55,
   "metadata": {
    "colab": {
     "base_uri": "https://localhost:8080/",
     "height": 208
    },
    "id": "9rhlm7jj1B_1",
    "outputId": "a0e96eff-609a-4fd0-caa7-d94b83c9e4e5"
   },
   "outputs": [
    {
     "name": "stdout",
     "output_type": "stream",
     "text": [
      "+-------------------+-------+-------------+-----+\n",
      "|               DATE|COUNTRY|         CITY|VALUE|\n",
      "+-------------------+-------+-------------+-----+\n",
      "|2019-01-01 00:00:00|     US|  San Antonio| 42.0|\n",
      "|2019-01-01 00:00:00|     US|   Saint Paul| 21.0|\n",
      "|2019-01-01 00:00:00|     US|       Denver| 42.0|\n",
      "|2019-01-01 00:00:00|     US|San Francisco| 13.0|\n",
      "|2019-01-01 00:00:00|     US|      Madison| 14.0|\n",
      "+-------------------+-------+-------------+-----+\n",
      "only showing top 5 rows\n",
      "\n"
     ]
    }
   ],
   "source": [
    "# preview spark dataframe\n",
    "sdf.show(5)"
   ]
  },
  {
   "cell_type": "code",
   "execution_count": 56,
   "metadata": {
    "colab": {
     "base_uri": "https://localhost:8080/",
     "height": 104
    },
    "id": "1pXuHDJp1CIs",
    "outputId": "a28f553a-6132-48d8-e923-fb14f148bb86"
   },
   "outputs": [
    {
     "name": "stdout",
     "output_type": "stream",
     "text": [
      "root\n",
      " |-- DATE: timestamp (nullable = true)\n",
      " |-- COUNTRY: string (nullable = true)\n",
      " |-- CITY: string (nullable = true)\n",
      " |-- VALUE: double (nullable = true)\n",
      "\n"
     ]
    }
   ],
   "source": [
    "# metadata\n",
    "sdf.printSchema()"
   ]
  },
  {
   "cell_type": "code",
   "execution_count": 57,
   "metadata": {
    "colab": {
     "base_uri": "https://localhost:8080/",
     "height": 35
    },
    "id": "tastd9If1CFr",
    "outputId": "848416cb-90f6-454c-fce9-4e579feefe78"
   },
   "outputs": [
    {
     "data": {
      "text/plain": [
       "68988"
      ]
     },
     "execution_count": 57,
     "metadata": {},
     "output_type": "execute_result"
    }
   ],
   "source": [
    "# size of dataset\n",
    "sdf.count()"
   ]
  },
  {
   "cell_type": "code",
   "execution_count": 61,
   "metadata": {
    "colab": {
     "base_uri": "https://localhost:8080/",
     "height": 277
    },
    "id": "fUwxuZG_1CDL",
    "outputId": "a1bdf1b0-3fe0-4046-91a2-c614025058e2"
   },
   "outputs": [
    {
     "name": "stdout",
     "output_type": "stream",
     "text": [
      "+-------------+-----------+\n",
      "|         CITY|count(CITY)|\n",
      "+-------------+-----------+\n",
      "|  Springfield|        881|\n",
      "|    The Bronx|        858|\n",
      "|      Phoenix|        894|\n",
      "|        Hāpur|        880|\n",
      "|       Queens|        894|\n",
      "|        Omaha|        894|\n",
      "|       Mysore|        508|\n",
      "|       Dallas|        881|\n",
      "|      Oakland|        894|\n",
      "|  San Antonio|        891|\n",
      "|      Raleigh|        893|\n",
      "| Philadelphia|        889|\n",
      "|        Patna|        893|\n",
      "|  Los Angeles|        894|\n",
      "|      Chennai|        893|\n",
      "|   Sacramento|        890|\n",
      "|      Lucknow|        893|\n",
      "| Indianapolis|        881|\n",
      "|San Francisco|        894|\n",
      "|    San Diego|        709|\n",
      "+-------------+-----------+\n",
      "only showing top 20 rows\n",
      "\n"
     ]
    }
   ],
   "source": [
    "# data records per store\n",
    "sdf.select(['CITY']).groupBy('CITY').agg({\"CITY\":\"count\"}).show()"
   ]
  },
  {
   "cell_type": "markdown",
   "metadata": {
    "id": "7RdqGR_H_KGK"
   },
   "source": [
    "Now we need to partition the spark data into multiple partitions based on the store ids"
   ]
  },
  {
   "cell_type": "code",
   "execution_count": 59,
   "metadata": {
    "id": "Qwvv-f5n1B9e"
   },
   "outputs": [],
   "source": [
    "# create temporary spark view\n",
    "sdf.createOrReplaceTempView(\"VALUE\")"
   ]
  },
  {
   "cell_type": "code",
   "execution_count": 60,
   "metadata": {
    "colab": {
     "base_uri": "https://localhost:8080/",
     "height": 277
    },
    "id": "Jy7pNnIp7gbt",
    "outputId": "ce2b677b-6f34-408c-ef4d-1b13542c85a7"
   },
   "outputs": [],
   "source": [
    "# spark.sql(\"SELECT store_id, COUNT(*) FROM sales GROUP BY store_id ORDER BY store_id\").show()"
   ]
  },
  {
   "cell_type": "code",
   "execution_count": 67,
   "metadata": {
    "id": "38-oWkHS63z3"
   },
   "outputs": [],
   "source": [
    "# create a SQL query\n",
    "sql = \"SELECT CITY, DATE AS ds, SUM(VALUE) as y FROM VALUE GROUP BY CITY, ds ORDER BY CITY, ds\""
   ]
  },
  {
   "cell_type": "code",
   "execution_count": 68,
   "metadata": {
    "colab": {
     "base_uri": "https://localhost:8080/",
     "height": 468
    },
    "id": "3akZGwst7MiF",
    "outputId": "4a7a75f5-75a2-44c3-fb15-c9e1d2692dbb"
   },
   "outputs": [
    {
     "name": "stdout",
     "output_type": "stream",
     "text": [
      "+-----------+-------------------+----+\n",
      "|       CITY|                 ds|   y|\n",
      "+-----------+-------------------+----+\n",
      "|Albuquerque|2019-01-01 00:00:00|25.0|\n",
      "|Albuquerque|2019-01-02 00:00:00|40.0|\n",
      "|Albuquerque|2019-01-03 00:00:00|15.0|\n",
      "|Albuquerque|2019-01-04 00:00:00|33.0|\n",
      "|Albuquerque|2019-01-05 00:00:00|16.0|\n",
      "|Albuquerque|2019-01-06 00:00:00|33.0|\n",
      "|Albuquerque|2019-01-07 00:00:00|20.0|\n",
      "|Albuquerque|2019-01-08 00:00:00|23.0|\n",
      "|Albuquerque|2019-01-09 00:00:00|25.0|\n",
      "|Albuquerque|2019-01-10 00:00:00|36.0|\n",
      "|Albuquerque|2019-01-11 00:00:00|25.0|\n",
      "|Albuquerque|2019-01-12 00:00:00|18.0|\n",
      "|Albuquerque|2019-01-13 00:00:00|19.0|\n",
      "|Albuquerque|2019-01-14 00:00:00|33.0|\n",
      "|Albuquerque|2019-01-15 00:00:00|44.0|\n",
      "|Albuquerque|2019-01-16 00:00:00|56.0|\n",
      "|Albuquerque|2019-01-17 00:00:00|27.0|\n",
      "|Albuquerque|2019-01-18 00:00:00| 8.0|\n",
      "|Albuquerque|2019-01-19 00:00:00|12.0|\n",
      "|Albuquerque|2019-01-20 00:00:00|15.0|\n",
      "+-----------+-------------------+----+\n",
      "only showing top 20 rows\n",
      "\n"
     ]
    }
   ],
   "source": [
    "# preview data\n",
    "spark.sql(sql).show()"
   ]
  },
  {
   "cell_type": "markdown",
   "metadata": {
    "id": "ShU68LS5-R-i"
   },
   "source": [
    "- feature names `ds` and `y` is a requirement of `fbprophet`"
   ]
  },
  {
   "cell_type": "code",
   "execution_count": 69,
   "metadata": {
    "colab": {
     "base_uri": "https://localhost:8080/",
     "height": 87
    },
    "id": "-w-Tto2v7QBl",
    "outputId": "a9bec61a-5539-4255-94f3-0f63b59e4d3a"
   },
   "outputs": [
    {
     "name": "stdout",
     "output_type": "stream",
     "text": [
      "== Physical Plan ==\n",
      "*(1) Scan ExistingRDD[DATE#0,COUNTRY#1,CITY#2,VALUE#3]\n",
      "\n",
      "\n"
     ]
    }
   ],
   "source": [
    "sdf.explain()   # it has an RDD function"
   ]
  },
  {
   "cell_type": "code",
   "execution_count": 70,
   "metadata": {
    "colab": {
     "base_uri": "https://localhost:8080/",
     "height": 35
    },
    "id": "Sm0419Fh7WS1",
    "outputId": "3d1fd8c5-c353-41ae-91ce-8cb892bbc90c"
   },
   "outputs": [
    {
     "data": {
      "text/plain": [
       "1"
      ]
     },
     "execution_count": 70,
     "metadata": {},
     "output_type": "execute_result"
    }
   ],
   "source": [
    "# check data partitions\n",
    "sdf.rdd.getNumPartitions()"
   ]
  },
  {
   "cell_type": "markdown",
   "metadata": {
    "id": "iTC1MB_E-ek1"
   },
   "source": [
    "- data is still in a single partition\n",
    "- we need to divide it into multiple partitions\n"
   ]
  },
  {
   "cell_type": "code",
   "execution_count": 71,
   "metadata": {
    "id": "YUT3Jc8y79nO"
   },
   "outputs": [
    {
     "ename": "AnalysisException",
     "evalue": "Column 'store_id' does not exist. Did you mean one of the following? [ds, y, value.CITY];\n'RepartitionByExpression ['store_id], 1\n+- Sort [CITY#2 ASC NULLS FIRST, ds#96 ASC NULLS FIRST], true\n   +- Aggregate [CITY#2, DATE#0], [CITY#2, DATE#0 AS ds#96, sum(VALUE#3) AS y#97]\n      +- SubqueryAlias value\n         +- View (`VALUE`, [DATE#0,COUNTRY#1,CITY#2,VALUE#3])\n            +- LogicalRDD [DATE#0, COUNTRY#1, CITY#2, VALUE#3], false\n",
     "output_type": "error",
     "traceback": [
      "\u001b[0;31m---------------------------------------------------------------------------\u001b[0m",
      "\u001b[0;31mAnalysisException\u001b[0m                         Traceback (most recent call last)",
      "Input \u001b[0;32mIn [71]\u001b[0m, in \u001b[0;36m<cell line: 2>\u001b[0;34m()\u001b[0m\n\u001b[1;32m      1\u001b[0m \u001b[38;5;66;03m# create internal cache to prevent repeated data fetching\u001b[39;00m\n\u001b[0;32m----> 2\u001b[0m store_part \u001b[38;5;241m=\u001b[39m (\u001b[43mspark\u001b[49m\u001b[38;5;241;43m.\u001b[39;49m\u001b[43msql\u001b[49m\u001b[43m(\u001b[49m\u001b[43msql\u001b[49m\u001b[43m)\u001b[49m\u001b[38;5;241;43m.\u001b[39;49m\u001b[43mrepartition\u001b[49m\u001b[43m(\u001b[49m\u001b[43mspark\u001b[49m\u001b[38;5;241;43m.\u001b[39;49m\u001b[43msparkContext\u001b[49m\u001b[38;5;241;43m.\u001b[39;49m\u001b[43mdefaultParallelism\u001b[49m\u001b[43m,\u001b[49m\u001b[43m \u001b[49m\u001b[43m[\u001b[49m\u001b[38;5;124;43m'\u001b[39;49m\u001b[38;5;124;43mstore_id\u001b[39;49m\u001b[38;5;124;43m'\u001b[39;49m\u001b[43m]\u001b[49m\u001b[43m)\u001b[49m)\u001b[38;5;241m.\u001b[39mcache()\n",
      "File \u001b[0;32m/opt/homebrew/Caskroom/miniconda/base/envs/ml38/lib/python3.8/site-packages/pyspark/sql/dataframe.py:1094\u001b[0m, in \u001b[0;36mDataFrame.repartition\u001b[0;34m(self, numPartitions, *cols)\u001b[0m\n\u001b[1;32m   1091\u001b[0m         \u001b[38;5;28;01mreturn\u001b[39;00m DataFrame(\u001b[38;5;28mself\u001b[39m\u001b[38;5;241m.\u001b[39m_jdf\u001b[38;5;241m.\u001b[39mrepartition(numPartitions), \u001b[38;5;28mself\u001b[39m\u001b[38;5;241m.\u001b[39msparkSession)\n\u001b[1;32m   1092\u001b[0m     \u001b[38;5;28;01melse\u001b[39;00m:\n\u001b[1;32m   1093\u001b[0m         \u001b[38;5;28;01mreturn\u001b[39;00m DataFrame(\n\u001b[0;32m-> 1094\u001b[0m             \u001b[38;5;28;43mself\u001b[39;49m\u001b[38;5;241;43m.\u001b[39;49m\u001b[43m_jdf\u001b[49m\u001b[38;5;241;43m.\u001b[39;49m\u001b[43mrepartition\u001b[49m\u001b[43m(\u001b[49m\u001b[43mnumPartitions\u001b[49m\u001b[43m,\u001b[49m\u001b[43m \u001b[49m\u001b[38;5;28;43mself\u001b[39;49m\u001b[38;5;241;43m.\u001b[39;49m\u001b[43m_jcols\u001b[49m\u001b[43m(\u001b[49m\u001b[38;5;241;43m*\u001b[39;49m\u001b[43mcols\u001b[49m\u001b[43m)\u001b[49m\u001b[43m)\u001b[49m,\n\u001b[1;32m   1095\u001b[0m             \u001b[38;5;28mself\u001b[39m\u001b[38;5;241m.\u001b[39msparkSession,\n\u001b[1;32m   1096\u001b[0m         )\n\u001b[1;32m   1097\u001b[0m \u001b[38;5;28;01melif\u001b[39;00m \u001b[38;5;28misinstance\u001b[39m(numPartitions, (\u001b[38;5;28mstr\u001b[39m, Column)):\n\u001b[1;32m   1098\u001b[0m     cols \u001b[38;5;241m=\u001b[39m (numPartitions,) \u001b[38;5;241m+\u001b[39m cols\n",
      "File \u001b[0;32m/opt/homebrew/Caskroom/miniconda/base/envs/ml38/lib/python3.8/site-packages/py4j/java_gateway.py:1321\u001b[0m, in \u001b[0;36mJavaMember.__call__\u001b[0;34m(self, *args)\u001b[0m\n\u001b[1;32m   1315\u001b[0m command \u001b[38;5;241m=\u001b[39m proto\u001b[38;5;241m.\u001b[39mCALL_COMMAND_NAME \u001b[38;5;241m+\u001b[39m\\\n\u001b[1;32m   1316\u001b[0m     \u001b[38;5;28mself\u001b[39m\u001b[38;5;241m.\u001b[39mcommand_header \u001b[38;5;241m+\u001b[39m\\\n\u001b[1;32m   1317\u001b[0m     args_command \u001b[38;5;241m+\u001b[39m\\\n\u001b[1;32m   1318\u001b[0m     proto\u001b[38;5;241m.\u001b[39mEND_COMMAND_PART\n\u001b[1;32m   1320\u001b[0m answer \u001b[38;5;241m=\u001b[39m \u001b[38;5;28mself\u001b[39m\u001b[38;5;241m.\u001b[39mgateway_client\u001b[38;5;241m.\u001b[39msend_command(command)\n\u001b[0;32m-> 1321\u001b[0m return_value \u001b[38;5;241m=\u001b[39m \u001b[43mget_return_value\u001b[49m\u001b[43m(\u001b[49m\n\u001b[1;32m   1322\u001b[0m \u001b[43m    \u001b[49m\u001b[43manswer\u001b[49m\u001b[43m,\u001b[49m\u001b[43m \u001b[49m\u001b[38;5;28;43mself\u001b[39;49m\u001b[38;5;241;43m.\u001b[39;49m\u001b[43mgateway_client\u001b[49m\u001b[43m,\u001b[49m\u001b[43m \u001b[49m\u001b[38;5;28;43mself\u001b[39;49m\u001b[38;5;241;43m.\u001b[39;49m\u001b[43mtarget_id\u001b[49m\u001b[43m,\u001b[49m\u001b[43m \u001b[49m\u001b[38;5;28;43mself\u001b[39;49m\u001b[38;5;241;43m.\u001b[39;49m\u001b[43mname\u001b[49m\u001b[43m)\u001b[49m\n\u001b[1;32m   1324\u001b[0m \u001b[38;5;28;01mfor\u001b[39;00m temp_arg \u001b[38;5;129;01min\u001b[39;00m temp_args:\n\u001b[1;32m   1325\u001b[0m     temp_arg\u001b[38;5;241m.\u001b[39m_detach()\n",
      "File \u001b[0;32m/opt/homebrew/Caskroom/miniconda/base/envs/ml38/lib/python3.8/site-packages/pyspark/sql/utils.py:196\u001b[0m, in \u001b[0;36mcapture_sql_exception.<locals>.deco\u001b[0;34m(*a, **kw)\u001b[0m\n\u001b[1;32m    192\u001b[0m converted \u001b[38;5;241m=\u001b[39m convert_exception(e\u001b[38;5;241m.\u001b[39mjava_exception)\n\u001b[1;32m    193\u001b[0m \u001b[38;5;28;01mif\u001b[39;00m \u001b[38;5;129;01mnot\u001b[39;00m \u001b[38;5;28misinstance\u001b[39m(converted, UnknownException):\n\u001b[1;32m    194\u001b[0m     \u001b[38;5;66;03m# Hide where the exception came from that shows a non-Pythonic\u001b[39;00m\n\u001b[1;32m    195\u001b[0m     \u001b[38;5;66;03m# JVM exception message.\u001b[39;00m\n\u001b[0;32m--> 196\u001b[0m     \u001b[38;5;28;01mraise\u001b[39;00m converted \u001b[38;5;28;01mfrom\u001b[39;00m \u001b[38;5;28mNone\u001b[39m\n\u001b[1;32m    197\u001b[0m \u001b[38;5;28;01melse\u001b[39;00m:\n\u001b[1;32m    198\u001b[0m     \u001b[38;5;28;01mraise\u001b[39;00m\n",
      "\u001b[0;31mAnalysisException\u001b[0m: Column 'store_id' does not exist. Did you mean one of the following? [ds, y, value.CITY];\n'RepartitionByExpression ['store_id], 1\n+- Sort [CITY#2 ASC NULLS FIRST, ds#96 ASC NULLS FIRST], true\n   +- Aggregate [CITY#2, DATE#0], [CITY#2, DATE#0 AS ds#96, sum(VALUE#3) AS y#97]\n      +- SubqueryAlias value\n         +- View (`VALUE`, [DATE#0,COUNTRY#1,CITY#2,VALUE#3])\n            +- LogicalRDD [DATE#0, COUNTRY#1, CITY#2, VALUE#3], false\n"
     ]
    }
   ],
   "source": [
    "# create internal cache to prevent repeated data fetching\n",
    "store_part = (spark.sql(sql).repartition(spark.sparkContext.defaultParallelism, ['store_id'])).cache()"
   ]
  },
  {
   "cell_type": "code",
   "execution_count": 37,
   "metadata": {
    "colab": {
     "base_uri": "https://localhost:8080/",
     "height": 35
    },
    "id": "lwaexsXJ_pj5",
    "outputId": "293ace05-382e-4ea0-fbc9-afdf4ce33301"
   },
   "outputs": [
    {
     "data": {
      "text/plain": [
       "DataFrame[store_id: bigint, ds: timestamp, y: double]"
      ]
     },
     "execution_count": 37,
     "metadata": {
      "tags": []
     },
     "output_type": "execute_result"
    }
   ],
   "source": [
    "store_part"
   ]
  },
  {
   "cell_type": "code",
   "execution_count": 38,
   "metadata": {
    "colab": {
     "base_uri": "https://localhost:8080/",
     "height": 225
    },
    "id": "vRm7615r_q2Y",
    "outputId": "b513179c-1495-40c3-817d-8fad30e74da5"
   },
   "outputs": [
    {
     "name": "stdout",
     "output_type": "stream",
     "text": [
      "== Physical Plan ==\n",
      "InMemoryTableScan [store_id#1L, ds#83, y#84]\n",
      "   +- InMemoryRelation [store_id#1L, ds#83, y#84], StorageLevel(disk, memory, deserialized, 1 replicas)\n",
      "         +- Exchange hashpartitioning(store_id#1L, 1), false, [id=#147]\n",
      "            +- *(3) Sort [store_id#1L ASC NULLS FIRST, ds#83 ASC NULLS FIRST], true, 0\n",
      "               +- Exchange rangepartitioning(store_id#1L ASC NULLS FIRST, ds#83 ASC NULLS FIRST, 200), true, [id=#143]\n",
      "                  +- *(2) HashAggregate(keys=[store_id#1L, date#0], functions=[sum(sales#2)])\n",
      "                     +- Exchange hashpartitioning(store_id#1L, date#0, 200), true, [id=#139]\n",
      "                        +- *(1) HashAggregate(keys=[store_id#1L, date#0], functions=[partial_sum(sales#2)])\n",
      "                           +- *(1) Scan ExistingRDD[date#0,store_id#1L,sales#2]\n",
      "\n",
      "\n"
     ]
    }
   ],
   "source": [
    "store_part.explain()"
   ]
  },
  {
   "cell_type": "markdown",
   "metadata": {
    "id": "UbgyXpuk_6MI"
   },
   "source": [
    "- Multiple data partitions have been created\n",
    "\n"
   ]
  },
  {
   "cell_type": "code",
   "execution_count": 39,
   "metadata": {
    "id": "KJzO1FXc_s2w"
   },
   "outputs": [],
   "source": [
    "# create a schema\n",
    "\n",
    "# import datatypes\n",
    "from pyspark.sql.types import *\n",
    "# create schema\n",
    "result_schema = StructType([\n",
    "                            StructField('ds', TimestampType()),\n",
    "                            StructField('store_id', IntegerType()),\n",
    "                            StructField('y', DoubleType()),\n",
    "                            StructField('yhat', DoubleType()),\n",
    "                            StructField('yhat_upper', DoubleType()),\n",
    "                            StructField('yhat_lower', DoubleType())\n",
    "                          ])"
   ]
  },
  {
   "cell_type": "code",
   "execution_count": 40,
   "metadata": {
    "id": "cXkMLodCBeTi"
   },
   "outputs": [],
   "source": [
    "# UDF for fbprophet modelling\n",
    "from pyspark.sql.functions import pandas_udf, PandasUDFType\n",
    "\n",
    "@pandas_udf(result_schema, PandasUDFType.GROUPED_MAP)   # GROUPED_MAP allows you to vectorize group of rows from data\n",
    "def forecast_sales(store_pd):\n",
    "  # create fbprophet model\n",
    "  model = Prophet(interval_width=0.95, # forecast with 95% confidence interval\n",
    "                  seasonality_mode='multiplicative',  # because multiple peaks and troughs in data\n",
    "                  weekly_seasonality=True,\n",
    "                  yearly_seasonality=True)\n",
    "  # train model\n",
    "  model.fit(store_pd)\n",
    "\n",
    "  # future dataframe - for how much time in future do you wish to forecast\n",
    "  future_pd = model.make_future_dataframe(\n",
    "      periods=5,  # forecast for next 5 periods/values\n",
    "      freq='w'    # weekly forecast\n",
    "  )\n",
    "\n",
    "  # make forecast\n",
    "  forecast_pd = model.predict(future_pd)\n",
    "\n",
    "  # store results\n",
    "  f_pd = forecast_pd[['ds', 'yhat', 'yhat_upper', 'yhat_lower']].set_index('ds')\n",
    "  st_pd = store_pd[['ds', 'store_id', 'y']].set_index('ds')\n",
    "\n",
    "  # create result dataframe\n",
    "  results_pd = f_pd.join(st_pd, how='left')\n",
    "  results_pd.reset_index(level=0, inplace=True)\n",
    "  results_pd['store_pd'] = store_pd['store_id'].iloc[0]\n",
    "\n",
    "  return results_pd[['ds', 'store_id', 'y', 'yhat', 'yhat_upper', 'yhat_lower']]"
   ]
  },
  {
   "cell_type": "code",
   "execution_count": 41,
   "metadata": {
    "colab": {
     "base_uri": "https://localhost:8080/",
     "height": 87
    },
    "id": "xhprdcyXKFLa",
    "outputId": "93fc084f-edce-44e6-88ac-dc1f3be7a346"
   },
   "outputs": [
    {
     "name": "stderr",
     "output_type": "stream",
     "text": [
      "/usr/local/lib/python3.6/dist-packages/pyspark/sql/pandas/group_ops.py:76: UserWarning:\n",
      "\n",
      "It is preferred to use 'applyInPandas' over this API. This API will be deprecated in the future releases. See SPARK-28264 for more details.\n",
      "\n"
     ]
    }
   ],
   "source": [
    "# append current date to store when you run this model\n",
    "from pyspark.sql.functions import current_date\n",
    "\n",
    "results = (\n",
    "    store_part\n",
    "      .groupBy('store_id')  # vectorize the columns\n",
    "      .apply(forecast_sales)  # apply UDF\n",
    "      .withColumn('training_date', current_date())\n",
    ")"
   ]
  },
  {
   "cell_type": "code",
   "execution_count": 42,
   "metadata": {
    "colab": {
     "base_uri": "https://localhost:8080/",
     "height": 35
    },
    "id": "xJWcqKQMMm4G",
    "outputId": "39e0302a-98b2-46c0-f562-db91c4b1a3a5"
   },
   "outputs": [
    {
     "data": {
      "text/plain": [
       "DataFrame[ds: timestamp, store_id: int, y: double, yhat: double, yhat_upper: double, yhat_lower: double, training_date: date]"
      ]
     },
     "execution_count": 42,
     "metadata": {
      "tags": []
     },
     "output_type": "execute_result"
    }
   ],
   "source": [
    "results.cache()"
   ]
  },
  {
   "cell_type": "code",
   "execution_count": 43,
   "metadata": {
    "colab": {
     "base_uri": "https://localhost:8080/",
     "height": 208
    },
    "id": "kd8jLn6HMrU6",
    "outputId": "40ce922f-f4e4-4fd3-d4bd-c19713e016d7"
   },
   "outputs": [
    {
     "name": "stdout",
     "output_type": "stream",
     "text": [
      "+-------------------+--------+-----------+------------------+------------------+------------------+-------------+\n",
      "|                 ds|store_id|          y|              yhat|        yhat_upper|        yhat_lower|training_date|\n",
      "+-------------------+--------+-----------+------------------+------------------+------------------+-------------+\n",
      "|2019-01-06 00:00:00|      25|736657.2267| 712575.0694095818| 964091.7223007476|486577.19159198273|   2020-10-07|\n",
      "|2019-01-13 00:00:00|      25|696457.1717| 743751.7568979745| 979890.6595385578| 501378.2937120345|   2020-10-07|\n",
      "|2019-01-20 00:00:00|      25| 996876.875| 972909.8778074606|1185029.2643246108| 738883.5986192742|   2020-10-07|\n",
      "|2019-01-27 00:00:00|      25| 1029737.05|1034447.5557655566|1256880.3327057916| 798864.3835934855|   2020-10-07|\n",
      "|2019-02-03 00:00:00|      25|1072873.705| 986365.7266813249| 1214181.404062533| 757418.1006287117|   2020-10-07|\n",
      "+-------------------+--------+-----------+------------------+------------------+------------------+-------------+\n",
      "only showing top 5 rows\n",
      "\n"
     ]
    }
   ],
   "source": [
    "# preview results\n",
    "results.show(5)"
   ]
  },
  {
   "cell_type": "code",
   "execution_count": 44,
   "metadata": {
    "colab": {
     "base_uri": "https://localhost:8080/",
     "height": 35
    },
    "id": "iv_zuOg-MsHi",
    "outputId": "694b25e5-6c11-421a-b530-784d9bb9b307"
   },
   "outputs": [
    {
     "data": {
      "text/plain": [
       "DataFrame[ds: timestamp, store_id: int, y: double, yhat: double, yhat_upper: double, yhat_lower: double, training_date: date]"
      ]
     },
     "execution_count": 44,
     "metadata": {
      "tags": []
     },
     "output_type": "execute_result"
    }
   ],
   "source": [
    "# collate all partitions into 1 partition\n",
    "results.coalesce(1)"
   ]
  },
  {
   "cell_type": "code",
   "execution_count": 45,
   "metadata": {
    "colab": {
     "base_uri": "https://localhost:8080/",
     "height": 35
    },
    "id": "LqZUNZ3rPVGp",
    "outputId": "93348422-6984-4ebb-cc53-54f5d8b69173"
   },
   "outputs": [
    {
     "data": {
      "text/plain": [
       "550"
      ]
     },
     "execution_count": 45,
     "metadata": {
      "tags": []
     },
     "output_type": "execute_result"
    }
   ],
   "source": [
    "# size of results\n",
    "results.count()   # 5 weeks forecast for 10 stores, thus, 550 (500+50)"
   ]
  },
  {
   "cell_type": "code",
   "execution_count": 46,
   "metadata": {
    "id": "s4smKmzePZlf"
   },
   "outputs": [],
   "source": [
    "# create temp view\n",
    "results.createOrReplaceTempView('forecasted')"
   ]
  },
  {
   "cell_type": "code",
   "execution_count": 47,
   "metadata": {
    "colab": {
     "base_uri": "https://localhost:8080/",
     "height": 295
    },
    "id": "7NlLGnFxPiUH",
    "outputId": "55fd7c9c-363c-48ce-8b31-ac5fdbfb3372"
   },
   "outputs": [
    {
     "name": "stdout",
     "output_type": "stream",
     "text": [
      "+--------+--------+\n",
      "|store_id|count(1)|\n",
      "+--------+--------+\n",
      "|      31|      50|\n",
      "|      28|      50|\n",
      "|      26|      50|\n",
      "|      44|      50|\n",
      "|    null|      50|\n",
      "|      41|      50|\n",
      "|      35|      50|\n",
      "|      38|      50|\n",
      "|      25|      50|\n",
      "|      29|      50|\n",
      "|      30|      50|\n",
      "+--------+--------+\n",
      "\n"
     ]
    }
   ],
   "source": [
    "# sql query to fetch results\n",
    "spark.sql(\"SELECT store_id, COUNT(*) FROM forecasted GROUP BY store_id\").show()"
   ]
  },
  {
   "cell_type": "markdown",
   "metadata": {
    "id": "oTTM0W0SE9MQ"
   },
   "source": [
    "- The null is for forecasted values"
   ]
  },
  {
   "cell_type": "code",
   "execution_count": 48,
   "metadata": {
    "colab": {
     "base_uri": "https://localhost:8080/",
     "height": 415
    },
    "id": "5fOAeDmYBcAG",
    "outputId": "3ea26437-3c74-47bf-b1a7-08f8e2e68ae2"
   },
   "outputs": [
    {
     "data": {
      "text/html": [
       "<div>\n",
       "<style scoped>\n",
       "    .dataframe tbody tr th:only-of-type {\n",
       "        vertical-align: middle;\n",
       "    }\n",
       "\n",
       "    .dataframe tbody tr th {\n",
       "        vertical-align: top;\n",
       "    }\n",
       "\n",
       "    .dataframe thead th {\n",
       "        text-align: right;\n",
       "    }\n",
       "</style>\n",
       "<table border=\"1\" class=\"dataframe\">\n",
       "  <thead>\n",
       "    <tr style=\"text-align: right;\">\n",
       "      <th></th>\n",
       "      <th>ds</th>\n",
       "      <th>store_id</th>\n",
       "      <th>y</th>\n",
       "      <th>yhat</th>\n",
       "      <th>yhat_upper</th>\n",
       "      <th>yhat_lower</th>\n",
       "      <th>training_date</th>\n",
       "    </tr>\n",
       "  </thead>\n",
       "  <tbody>\n",
       "    <tr>\n",
       "      <th>0</th>\n",
       "      <td>2019-01-06</td>\n",
       "      <td>25.0</td>\n",
       "      <td>7.366572e+05</td>\n",
       "      <td>7.125751e+05</td>\n",
       "      <td>9.640917e+05</td>\n",
       "      <td>486577.191592</td>\n",
       "      <td>2020-10-07</td>\n",
       "    </tr>\n",
       "    <tr>\n",
       "      <th>1</th>\n",
       "      <td>2019-01-13</td>\n",
       "      <td>25.0</td>\n",
       "      <td>6.964572e+05</td>\n",
       "      <td>7.437518e+05</td>\n",
       "      <td>9.798907e+05</td>\n",
       "      <td>501378.293712</td>\n",
       "      <td>2020-10-07</td>\n",
       "    </tr>\n",
       "    <tr>\n",
       "      <th>2</th>\n",
       "      <td>2019-01-20</td>\n",
       "      <td>25.0</td>\n",
       "      <td>9.968769e+05</td>\n",
       "      <td>9.729099e+05</td>\n",
       "      <td>1.185029e+06</td>\n",
       "      <td>738883.598619</td>\n",
       "      <td>2020-10-07</td>\n",
       "    </tr>\n",
       "    <tr>\n",
       "      <th>3</th>\n",
       "      <td>2019-01-27</td>\n",
       "      <td>25.0</td>\n",
       "      <td>1.029737e+06</td>\n",
       "      <td>1.034448e+06</td>\n",
       "      <td>1.256880e+06</td>\n",
       "      <td>798864.383593</td>\n",
       "      <td>2020-10-07</td>\n",
       "    </tr>\n",
       "    <tr>\n",
       "      <th>4</th>\n",
       "      <td>2019-02-03</td>\n",
       "      <td>25.0</td>\n",
       "      <td>1.072874e+06</td>\n",
       "      <td>9.863657e+05</td>\n",
       "      <td>1.214181e+06</td>\n",
       "      <td>757418.100629</td>\n",
       "      <td>2020-10-07</td>\n",
       "    </tr>\n",
       "    <tr>\n",
       "      <th>...</th>\n",
       "      <td>...</td>\n",
       "      <td>...</td>\n",
       "      <td>...</td>\n",
       "      <td>...</td>\n",
       "      <td>...</td>\n",
       "      <td>...</td>\n",
       "      <td>...</td>\n",
       "    </tr>\n",
       "    <tr>\n",
       "      <th>545</th>\n",
       "      <td>2019-12-22</td>\n",
       "      <td>NaN</td>\n",
       "      <td>NaN</td>\n",
       "      <td>6.265474e+04</td>\n",
       "      <td>1.269201e+05</td>\n",
       "      <td>-3924.519869</td>\n",
       "      <td>2020-10-07</td>\n",
       "    </tr>\n",
       "    <tr>\n",
       "      <th>546</th>\n",
       "      <td>2019-12-29</td>\n",
       "      <td>NaN</td>\n",
       "      <td>NaN</td>\n",
       "      <td>2.657442e+04</td>\n",
       "      <td>8.700684e+04</td>\n",
       "      <td>-37232.431873</td>\n",
       "      <td>2020-10-07</td>\n",
       "    </tr>\n",
       "    <tr>\n",
       "      <th>547</th>\n",
       "      <td>2020-01-05</td>\n",
       "      <td>NaN</td>\n",
       "      <td>NaN</td>\n",
       "      <td>8.801264e+03</td>\n",
       "      <td>7.093800e+04</td>\n",
       "      <td>-52601.231193</td>\n",
       "      <td>2020-10-07</td>\n",
       "    </tr>\n",
       "    <tr>\n",
       "      <th>548</th>\n",
       "      <td>2020-01-12</td>\n",
       "      <td>NaN</td>\n",
       "      <td>NaN</td>\n",
       "      <td>4.665900e+03</td>\n",
       "      <td>6.635060e+04</td>\n",
       "      <td>-62753.186888</td>\n",
       "      <td>2020-10-07</td>\n",
       "    </tr>\n",
       "    <tr>\n",
       "      <th>549</th>\n",
       "      <td>2020-01-19</td>\n",
       "      <td>NaN</td>\n",
       "      <td>NaN</td>\n",
       "      <td>2.708830e+03</td>\n",
       "      <td>6.948003e+04</td>\n",
       "      <td>-61797.472978</td>\n",
       "      <td>2020-10-07</td>\n",
       "    </tr>\n",
       "  </tbody>\n",
       "</table>\n",
       "<p>550 rows × 7 columns</p>\n",
       "</div>"
      ],
      "text/plain": [
       "            ds  store_id  ...     yhat_lower  training_date\n",
       "0   2019-01-06      25.0  ...  486577.191592     2020-10-07\n",
       "1   2019-01-13      25.0  ...  501378.293712     2020-10-07\n",
       "2   2019-01-20      25.0  ...  738883.598619     2020-10-07\n",
       "3   2019-01-27      25.0  ...  798864.383593     2020-10-07\n",
       "4   2019-02-03      25.0  ...  757418.100629     2020-10-07\n",
       "..         ...       ...  ...            ...            ...\n",
       "545 2019-12-22       NaN  ...   -3924.519869     2020-10-07\n",
       "546 2019-12-29       NaN  ...  -37232.431873     2020-10-07\n",
       "547 2020-01-05       NaN  ...  -52601.231193     2020-10-07\n",
       "548 2020-01-12       NaN  ...  -62753.186888     2020-10-07\n",
       "549 2020-01-19       NaN  ...  -61797.472978     2020-10-07\n",
       "\n",
       "[550 rows x 7 columns]"
      ]
     },
     "execution_count": 48,
     "metadata": {
      "tags": []
     },
     "output_type": "execute_result"
    }
   ],
   "source": [
    "# convert spark DF to pandas\n",
    "final_df = results.toPandas()\n",
    "final_df"
   ]
  },
  {
   "cell_type": "code",
   "execution_count": 49,
   "metadata": {
    "id": "gDHRURJAEy14"
   },
   "outputs": [],
   "source": [
    "# create date as index\n",
    "final_df = final_df.set_index('ds')"
   ]
  },
  {
   "cell_type": "code",
   "execution_count": 54,
   "metadata": {
    "colab": {
     "base_uri": "https://localhost:8080/",
     "height": 537
    },
    "id": "fzID52FbFP_m",
    "outputId": "985ae5a3-a038-41f9-c0ec-56b7358d5f72"
   },
   "outputs": [
    {
     "data": {
      "text/plain": [
       "<matplotlib.axes._subplots.AxesSubplot at 0x7f44c50a2710>"
      ]
     },
     "execution_count": 54,
     "metadata": {
      "tags": []
     },
     "output_type": "execute_result"
    },
    {
     "data": {
      "image/png": "[encoded data removed]",
      "text/plain": [
       "<Figure size 720x576 with 1 Axes>"
      ]
     },
     "metadata": {
      "tags": []
     },
     "output_type": "display_data"
    }
   ],
   "source": [
    "# explore individual stores\n",
    "final_df.query(\"store_id==25\")[['y', 'yhat']].plot(legend=True)"
   ]
  },
  {
   "cell_type": "code",
   "execution_count": 55,
   "metadata": {
    "colab": {
     "base_uri": "https://localhost:8080/",
     "height": 525
    },
    "id": "wZnB_l4VFYt-",
    "outputId": "35bec9c2-47e3-4893-f043-75483f101da0"
   },
   "outputs": [
    {
     "data": {
      "text/plain": [
       "<matplotlib.axes._subplots.AxesSubplot at 0x7f44c040cfd0>"
      ]
     },
     "execution_count": 55,
     "metadata": {
      "tags": []
     },
     "output_type": "execute_result"
    },
    {
     "data": {
      "image/png": "[encoded data removed]",
      "text/plain": [
       "<Figure size 720x576 with 1 Axes>"
      ]
     },
     "metadata": {
      "tags": []
     },
     "output_type": "display_data"
    }
   ],
   "source": [
    "# explore individual stores\n",
    "final_df.query(\"store_id==44\")[['y', 'yhat']].plot(legend=True)"
   ]
  },
  {
   "cell_type": "code",
   "execution_count": 56,
   "metadata": {
    "colab": {
     "base_uri": "https://localhost:8080/",
     "height": 525
    },
    "id": "oyX3kI6UFm4I",
    "outputId": "623df5bf-2ae9-49f5-a710-6865bc6e42f6"
   },
   "outputs": [
    {
     "data": {
      "text/plain": [
       "<matplotlib.axes._subplots.AxesSubplot at 0x7f44c03c4320>"
      ]
     },
     "execution_count": 56,
     "metadata": {
      "tags": []
     },
     "output_type": "execute_result"
    },
    {
     "data": {
      "image/png": "[encoded data removed]",
      "text/plain": [
       "<Figure size 720x576 with 1 Axes>"
      ]
     },
     "metadata": {
      "tags": []
     },
     "output_type": "display_data"
    }
   ],
   "source": [
    "# explore individual stores\n",
    "final_df.query(\"store_id==30\")[['y', 'yhat']].plot(legend=True)"
   ]
  },
  {
   "cell_type": "code",
   "execution_count": null,
   "metadata": {
    "id": "o1vTyVUvFoOm"
   },
   "outputs": [],
   "source": []
  }
 ],
 "metadata": {
  "colab": {
   "authorship_tag": "ABX9TyOwfAh2s5/9zbAGFqPBlib/",
   "collapsed_sections": [],
   "include_colab_link": true,
   "name": "Multiple Time Series Modelling with PySpark and FB Prophet.ipynb",
   "provenance": []
  },
  "kernelspec": {
   "display_name": "Python 3",
   "language": "python",
   "name": "python3"
  },
  "language_info": {
   "codemirror_mode": {
    "name": "ipython",
    "version": 3
   },
   "file_extension": ".py",
   "mimetype": "text/x-python",
   "name": "python",
   "nbconvert_exporter": "python",
   "pygments_lexer": "ipython3",
   "version": "3.8.13"
  }
 },
 "nbformat": 4,
 "nbformat_minor": 4
}
