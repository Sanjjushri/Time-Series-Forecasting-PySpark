{
 "cells": [
  {
   "cell_type": "code",
   "execution_count": 1,
   "id": "1cd72cd4-8c6b-4b01-b216-4783616ce8cb",
   "metadata": {},
   "outputs": [],
   "source": [
    "from pyspark.sql.functions import pandas_udf, PandasUDFType\n",
    "from pyspark.sql.types import StructType,StructField,StringType,LongType,DoubleType,FloatType\n",
    "\n",
    "import statsmodels.tsa.api as sm\n",
    "import numpy as np\n",
    "import pandas as pd\n",
    "\n",
    "from pyspark.sql import SparkSession\n",
    "\n",
    "import warnings\n",
    "warnings.filterwarnings('ignore')"
   ]
  },
  {
   "cell_type": "code",
   "execution_count": 2,
   "id": "af3a798d-c59d-4f17-8763-13b6bd740ec1",
   "metadata": {},
   "outputs": [],
   "source": [
    "spark = SparkSession.builder.appName('TSF-pollution').getOrCreate()"
   ]
  },
  {
   "cell_type": "code",
   "execution_count": 3,
   "id": "e3f62283-877b-4a58-b6aa-1b83bd59f47d",
   "metadata": {},
   "outputs": [],
   "source": [
    "df = pd.read_csv(\"dataset/air_quality_index.csv\")"
   ]
  },
  {
   "cell_type": "code",
   "execution_count": 4,
   "id": "fc52a915-7017-4d6a-a9fa-cf3eaf6acdb9",
   "metadata": {},
   "outputs": [],
   "source": [
    "data = spark.read.format('csv').options(header='true', inferSchema='true').load('dataset/air_quality_index.csv').select('COUNTRY','CITY','VALUE')\n"
   ]
  },
  {
   "cell_type": "code",
   "execution_count": 103,
   "id": "f3d02a78-eea1-439c-bbbf-41e5d37067f0",
   "metadata": {},
   "outputs": [],
   "source": [
    "schema = StructType([StructField('COUNTRY', StringType(), True),\n",
    "                     StructField('CITY', StringType(), True),\n",
    "                     StructField('VALUE', DoubleType(), True)])"
   ]
  },
  {
   "cell_type": "code",
   "execution_count": 104,
   "id": "881623d5-7fdc-4efb-a555-5ba41da962a7",
   "metadata": {},
   "outputs": [],
   "source": [
    "selected_com = data.groupBy(['COUNTRY','CITY']).count().filter(\"count > 104\").select(\"COUNTRY\",\"CITY\")\n",
    "data_selected_store_departments = data.join(selected_com, ['COUNTRY','CITY'],'inner')\n"
   ]
  },
  {
   "cell_type": "code",
   "execution_count": 105,
   "id": "e95ecab7-fff7-4a25-b6c7-a57ca9988f61",
   "metadata": {},
   "outputs": [],
   "source": [
    "df.set_index('DATE',inplace = True)"
   ]
  },
  {
   "cell_type": "code",
   "execution_count": null,
   "id": "d6f17f1f-916b-48ad-b511-d2c46e73e529",
   "metadata": {},
   "outputs": [],
   "source": [
    "def holt_winters_time_series_udf(data):\n",
    "  \n",
    "    # df.set_index('DATE',inplace = True)\n",
    "    time_series_data = df['VALUE']\n",
    "    \n",
    "    ##the model\n",
    "    model_monthly = sm.ExponentialSmoothing(np.asarray(time_series_data),trend='add').fit()\n",
    "\n",
    "    ##forecast values\n",
    "    forecast_values = pd.Series(model_monthly.forecast(1),name = 'fitted_values')\n",
    "    \n",
    "    return pd.DataFrame({'COUNTRY': [str(data.COUNTRY.iloc[0])],'CITY': [str(data.CITY.iloc[1])],'VALUE': [forecast_values[0]]})\n"
   ]
  },
  {
   "cell_type": "code",
   "execution_count": 107,
   "id": "ea5670a9-1ebc-4df5-8f69-1064c013fe2b",
   "metadata": {},
   "outputs": [],
   "source": [
    "##aggregating the forecasted results in the form of a spark dataframe\n",
    "forecasted_spark_df = df.groupby(['COUNTRY','CITY']).apply(holt_winters_time_series_udf)\n"
   ]
  },
  {
   "cell_type": "code",
   "execution_count": 108,
   "id": "d9d67d94-3066-45cf-83f2-b074c8190c80",
   "metadata": {},
   "outputs": [
    {
     "data": {
      "text/html": [
       "<div>\n",
       "<style scoped>\n",
       "    .dataframe tbody tr th:only-of-type {\n",
       "        vertical-align: middle;\n",
       "    }\n",
       "\n",
       "    .dataframe tbody tr th {\n",
       "        vertical-align: top;\n",
       "    }\n",
       "\n",
       "    .dataframe thead th {\n",
       "        text-align: right;\n",
       "    }\n",
       "</style>\n",
       "<table border=\"1\" class=\"dataframe\">\n",
       "  <thead>\n",
       "    <tr style=\"text-align: right;\">\n",
       "      <th></th>\n",
       "      <th></th>\n",
       "      <th></th>\n",
       "      <th>COUNTRY</th>\n",
       "      <th>CITY</th>\n",
       "      <th>VALUE</th>\n",
       "    </tr>\n",
       "    <tr>\n",
       "      <th>COUNTRY</th>\n",
       "      <th>CITY</th>\n",
       "      <th></th>\n",
       "      <th></th>\n",
       "      <th></th>\n",
       "      <th></th>\n",
       "    </tr>\n",
       "  </thead>\n",
       "  <tbody>\n",
       "    <tr>\n",
       "      <th rowspan=\"5\" valign=\"top\">IN</th>\n",
       "      <th>Bengaluru</th>\n",
       "      <th>0</th>\n",
       "      <td>IN</td>\n",
       "      <td>Bengaluru</td>\n",
       "      <td>48.186877</td>\n",
       "    </tr>\n",
       "    <tr>\n",
       "      <th>Bhopal</th>\n",
       "      <th>0</th>\n",
       "      <td>IN</td>\n",
       "      <td>Bhopal</td>\n",
       "      <td>48.186877</td>\n",
       "    </tr>\n",
       "    <tr>\n",
       "      <th>Chandigarh</th>\n",
       "      <th>0</th>\n",
       "      <td>IN</td>\n",
       "      <td>Chandigarh</td>\n",
       "      <td>48.186877</td>\n",
       "    </tr>\n",
       "    <tr>\n",
       "      <th>Chennai</th>\n",
       "      <th>0</th>\n",
       "      <td>IN</td>\n",
       "      <td>Chennai</td>\n",
       "      <td>48.186877</td>\n",
       "    </tr>\n",
       "    <tr>\n",
       "      <th>Delhi</th>\n",
       "      <th>0</th>\n",
       "      <td>IN</td>\n",
       "      <td>Delhi</td>\n",
       "      <td>48.186877</td>\n",
       "    </tr>\n",
       "  </tbody>\n",
       "</table>\n",
       "</div>"
      ],
      "text/plain": [
       "                     COUNTRY        CITY      VALUE\n",
       "COUNTRY CITY                                       \n",
       "IN      Bengaluru  0      IN   Bengaluru  48.186877\n",
       "        Bhopal     0      IN      Bhopal  48.186877\n",
       "        Chandigarh 0      IN  Chandigarh  48.186877\n",
       "        Chennai    0      IN     Chennai  48.186877\n",
       "        Delhi      0      IN       Delhi  48.186877"
      ]
     },
     "execution_count": 108,
     "metadata": {},
     "output_type": "execute_result"
    }
   ],
   "source": [
    "forecasted_spark_df.head()"
   ]
  },
  {
   "cell_type": "code",
   "execution_count": null,
   "id": "2ffc1c0a-ca72-4919-8f92-7ed1cdcb5120",
   "metadata": {},
   "outputs": [],
   "source": []
  }
 ],
 "metadata": {
  "kernelspec": {
   "display_name": "Python 3",
   "language": "python",
   "name": "python3"
  },
  "language_info": {
   "codemirror_mode": {
    "name": "ipython",
    "version": 3
   },
   "file_extension": ".py",
   "mimetype": "text/x-python",
   "name": "python",
   "nbconvert_exporter": "python",
   "pygments_lexer": "ipython3",
   "version": "3.8.13"
  }
 },
 "nbformat": 4,
 "nbformat_minor": 5
}
